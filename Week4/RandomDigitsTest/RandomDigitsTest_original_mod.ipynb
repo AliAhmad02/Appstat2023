{
 "cells": [
  {
   "cell_type": "markdown",
   "metadata": {},
   "source": [
    "# Random Digits Exercice\n",
    "\n",
    "### Description:\n",
    "This is an exercise in hypothesis testing, specifically determining if a series of digits [0,9] is random or not, and if the origin is human (i.e. yourself!). In order to determine this, one has to design and apply statistical tests, from which the degree of consistency of being random can be calculated.\n",
    "\n",
    "### Your task:\n",
    "Using tests of your choice/design, determine which of the given data sets are consistent with being random, and which aren't. One is based on the digits you entered in the course questionaire, while the others range from obviously non-random over poor/quasi random to digits of pi and truly random. See if you among these can determine your (human) dataset.\n",
    "\n",
    "I chose to try to implement the 32x32 binary rank test instead of the above exercise.\n",
    "\n",
    "###  Author: \n",
    " - Troels Petersen ([petersen@nbi.dk](mailto:petersen@nbi.dk))\n",
    "\n",
    "###  Date:\n",
    " - 7th of December 2023\n",
    "\n",
    "---"
   ]
  },
  {
   "cell_type": "code",
   "execution_count": 1,
   "metadata": {},
   "outputs": [],
   "source": [
    "import numpy as np\n",
    "from scipy import stats"
   ]
  },
  {
   "cell_type": "markdown",
   "metadata": {},
   "source": [
    "---\n",
    "## Define your tests:\n",
    "\n",
    "Here is an example plot from the data, just for convenience. It is all up to you from here..."
   ]
  },
  {
   "cell_type": "code",
   "execution_count": 162,
   "metadata": {},
   "outputs": [
    {
     "name": "stdout",
     "output_type": "stream",
     "text": [
      "On 0th iteration\n",
      "On 5000th iteration\n",
      "On 10000th iteration\n",
      "On 15000th iteration\n",
      "On 20000th iteration\n",
      "On 25000th iteration\n",
      "On 30000th iteration\n",
      "On 35000th iteration\n"
     ]
    }
   ],
   "source": [
    "def get_32_matrix_row(x, bits=32):\n",
    "    return np.array([int(i) for i in bin(x)[2:].zfill(bits)])\n",
    "\n",
    "def binary_rank_test_32(numbers):\n",
    "    N_iterations = 40_000\n",
    "    ranks = np.zeros(N_iterations)\n",
    "    for i in range(N_iterations):\n",
    "        if i % 5000 == 0:\n",
    "            print(f'On {i}th iteration')\n",
    "        sample = np.random.choice(numbers, size=32)\n",
    "        matrix = np.array([get_32_matrix_row(num) for num in sample])\n",
    "        rank = np.linalg.matrix_rank(matrix)\n",
    "        ranks[i] = rank\n",
    "    return ranks\n",
    "# Random (positive) 32-bit integer\n",
    "numbers1 = np.random.randint(0, 4_294_967_295, size=1000)\n",
    "ranks = binary_rank_test_32(numbers1)"
   ]
  },
  {
   "cell_type": "code",
   "execution_count": 163,
   "metadata": {},
   "outputs": [
    {
     "name": "stdout",
     "output_type": "stream",
     "text": [
      "Rank value | count \n",
      "\n",
      "29.0 | 461\n",
      "30.0 | 2836\n",
      "31.0 | 12409\n",
      "32.0 | 24294\n",
      "\n",
      "\n",
      "Rank value | Expected counts (given true randomness)\n",
      "\n",
      "=<29 | 211.4\n",
      "30 | 5134.0\n",
      "31 | 23103.0\n",
      "32 | 11551.5\n"
     ]
    }
   ],
   "source": [
    "ranks[ranks<=29] = 29\n",
    "unique, counts = np.unique(ranks, return_counts=True)\n",
    "unique_expected = [\"=<29\", \"30\", \"31\", \"32\"]\n",
    "counts_expected = [211.4, 5134.0, 23103.0, 11551.5]\n",
    "print(\"Rank value | count \\n\")\n",
    "for i in range(len(unique)):\n",
    "    print(f\"{unique[i]} | {counts[i]}\")\n",
    "print(\"\\n\")\n",
    "print(\"Rank value | Expected counts (given true randomness)\\n\")\n",
    "for i in range(len(unique_expected)):\n",
    "    print(f\"{unique_expected[i]} | {counts_expected[i]}\")\n"
   ]
  },
  {
   "cell_type": "markdown",
   "metadata": {},
   "source": [
    "The idea is to do a chi square test on this to see if what we get matches what is expected."
   ]
  },
  {
   "cell_type": "code",
   "execution_count": 164,
   "metadata": {},
   "outputs": [
    {
     "name": "stdout",
     "output_type": "stream",
     "text": [
      "0.0\n"
     ]
    }
   ],
   "source": [
    "chi2 = np.sum((counts-counts_expected)**2 / counts_expected)\n",
    "ndof = 3\n",
    "p_val = stats.chi2.sf(chi2, ndof)\n",
    "print(p_val)"
   ]
  },
  {
   "cell_type": "markdown",
   "metadata": {},
   "source": [
    "Clearly, with a p-value of 0, we can safely say that the generated numbers are not random (which is unsurprising, since they are from a pseudo-random number generator.)"
   ]
  }
 ],
 "metadata": {
  "executable": "/usr/bin/env python",
  "kernelspec": {
   "display_name": "Python 3 (ipykernel)",
   "language": "python",
   "name": "python3"
  },
  "language_info": {
   "codemirror_mode": {
    "name": "ipython",
    "version": 3
   },
   "file_extension": ".py",
   "mimetype": "text/x-python",
   "name": "python",
   "nbconvert_exporter": "python",
   "pygments_lexer": "ipython3",
   "version": "3.11.4"
  },
  "main_language": "python"
 },
 "nbformat": 4,
 "nbformat_minor": 4
}
